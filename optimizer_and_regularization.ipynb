{
 "cells": [
  {
   "cell_type": "code",
   "execution_count": null,
   "metadata": {
    "scrolled": true
   },
   "outputs": [],
   "source": [
    "%pylab inline"
   ]
  },
  {
   "cell_type": "code",
   "execution_count": null,
   "metadata": {},
   "outputs": [],
   "source": [
    "import torch\n",
    "import torch.nn as nn\n",
    "import torch.nn.functional as F\n",
    "import torch.optim as optim"
   ]
  },
  {
   "cell_type": "code",
   "execution_count": null,
   "metadata": {},
   "outputs": [],
   "source": [
    "from sklearn.datasets import fetch_openml\n",
    "from sklearn.datasets import load_breast_cancer\n",
    "\n",
    "data = load_breast_cancer()"
   ]
  },
  {
   "cell_type": "code",
   "execution_count": null,
   "metadata": {
    "scrolled": true
   },
   "outputs": [],
   "source": [
    "print(data['feature_names'])\n",
    "print(len(data['feature_names']))"
   ]
  },
  {
   "cell_type": "code",
   "execution_count": null,
   "metadata": {
    "scrolled": false
   },
   "outputs": [],
   "source": [
    "print(data['target_names'])\n",
    "print(len(data['target_names']))"
   ]
  },
  {
   "cell_type": "code",
   "execution_count": null,
   "metadata": {
    "scrolled": true
   },
   "outputs": [],
   "source": [
    "from sklearn.preprocessing import StandardScaler\n",
    "scaler = StandardScaler()\n",
    "\n",
    "X = data['data']\n",
    "print(X[0])\n",
    "\n",
    "# Standerdization（標準化）\n",
    "#X = scaler.fit_transform(X)\n",
    "#print(X[0])"
   ]
  },
  {
   "cell_type": "code",
   "execution_count": null,
   "metadata": {},
   "outputs": [],
   "source": [
    "from sklearn.model_selection import train_test_split\n",
    "train_idx, test_idx = train_test_split(np.arange(len(X)), test_size=0.3, random_state=42)\n",
    "train_X = torch.tensor(X[train_idx], dtype=torch.float)\n",
    "train_y = torch.tensor(data['target'][train_idx], dtype=torch.long)\n",
    "test_X = torch.tensor(X[test_idx], dtype=torch.float)\n",
    "test_y = torch.tensor(data['target'][test_idx], dtype=torch.long)"
   ]
  },
  {
   "cell_type": "code",
   "execution_count": null,
   "metadata": {},
   "outputs": [],
   "source": [
    "class MLP(nn.Module):\n",
    "    def __init__(self, xdim, hdim, ydim):\n",
    "        super(MLP, self).__init__()\n",
    "        self.linear1 = nn.Linear(xdim, hdim)\n",
    "        self.linear2 = nn.Linear(hdim, ydim)\n",
    "        self.norm1 = nn.BatchNorm1d(hdim)\n",
    "        self.dropout1 = nn.Dropout(p=0.2)\n",
    "        \n",
    "    def forward(self, X):\n",
    "        a1 = self.linear1(X)\n",
    "        \n",
    "        # Batch normalization（バッチ正規化）\n",
    "        #a1 = self.norm1(a1)\n",
    "        \n",
    "        # Dropout\n",
    "        #a1 = self.dropout1(a1)\n",
    "        \n",
    "        z1 = F.relu(a1)\n",
    "        a2 = self.linear2(z1)\n",
    "        return a2"
   ]
  },
  {
   "cell_type": "code",
   "execution_count": null,
   "metadata": {
    "scrolled": true
   },
   "outputs": [],
   "source": [
    "mlp = MLP(30, 5, 2)\n",
    "a2 = mlp(train_X)"
   ]
  },
  {
   "cell_type": "code",
   "execution_count": null,
   "metadata": {
    "scrolled": true
   },
   "outputs": [],
   "source": [
    "mlp = MLP(30, 5, 2)\n",
    "\n",
    "optimizer = optim.SGD(mlp.parameters(), lr = 0.1)\n",
    "\n",
    "# Weight decay（重み減衰あり）\n",
    "# optimizer = optim.SGD(mlp.parameters(), lr = 0.1, weight_decay=0.01)\n",
    "\n",
    "# AdaGrad\n",
    "#optimizer = optim.Adagrad(mlp.parameters())\n",
    "\n",
    "# RMSProp\n",
    "#optimizer = optim.RMSprop(mlp.parameters())\n",
    "\n",
    "# Adam\n",
    "#optimizer = optim.Adam(mlp.parameters())\n",
    "\n",
    "for epoch in range(1000):\n",
    "    optimizer.zero_grad()\n",
    "    a = mlp(train_X)\n",
    "    loss = F.cross_entropy(a, train_y)\n",
    "    loss.backward()\n",
    "    optimizer.step()\n",
    "    print(loss)"
   ]
  },
  {
   "cell_type": "code",
   "execution_count": null,
   "metadata": {},
   "outputs": [],
   "source": [
    "mlp.eval()\n",
    "a = mlp(test_X)\n",
    "pred_proba = F.softmax(a, dim=1)\n",
    "pred_y = torch.argmax(pred_proba, dim=1)\n",
    "print(pred_y)\n",
    "accuracy = (pred_y == test_y).sum() / float(len(pred_y))\n",
    "print(accuracy)"
   ]
  },
  {
   "cell_type": "code",
   "execution_count": null,
   "metadata": {},
   "outputs": [],
   "source": []
  }
 ],
 "metadata": {
  "kernelspec": {
   "display_name": "Python 3",
   "language": "python",
   "name": "python3"
  },
  "language_info": {
   "codemirror_mode": {
    "name": "ipython",
    "version": 3
   },
   "file_extension": ".py",
   "mimetype": "text/x-python",
   "name": "python",
   "nbconvert_exporter": "python",
   "pygments_lexer": "ipython3",
   "version": "3.7.6"
  }
 },
 "nbformat": 4,
 "nbformat_minor": 2
}
